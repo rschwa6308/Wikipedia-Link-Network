{
 "cells": [
  {
   "cell_type": "code",
   "execution_count": 1,
   "metadata": {},
   "outputs": [
    {
     "name": "stderr",
     "output_type": "stream",
     "text": [
      "Reading ID Map: 100%|██████████| 16714619/16714619 [00:12<00:00, 1286793.34it/s]\n",
      "Reading Graph: 100%|██████████| 16833643/16833643 [00:42<00:00, 398212.40it/s]\n",
      "Building Transpose Graph: 100%|██████████| 16714619/16714619 [01:10<00:00, 235466.68it/s]\n"
     ]
    }
   ],
   "source": [
    "from read_graph import read_ID_map, read_link_graph\n",
    "from helpers import build_transpose_graph\n",
    "\n",
    "TITLES_TO_IDS, IDS_TO_TILES = read_ID_map(\"data/ID_map.txt\")\n",
    "GRAPH = read_link_graph(\"data/link_graph_ids.txt\")\n",
    "TRANSPOSE_GRAPH = build_transpose_graph(GRAPH)"
   ]
  },
  {
   "cell_type": "code",
   "execution_count": 15,
   "metadata": {},
   "outputs": [],
   "source": [
    "import importlib\n",
    "\n",
    "import search\n",
    "importlib.reload(search)\n",
    "\n",
    "search.GRAPH = GRAPH\n",
    "search.TRANSPOSE_GRAPH = TRANSPOSE_GRAPH\n",
    "search.TITLES_TO_IDS = TITLES_TO_IDS\n",
    "search.IDS_TO_TILES = IDS_TO_TILES"
   ]
  },
  {
   "cell_type": "code",
   "execution_count": 16,
   "metadata": {},
   "outputs": [
    {
     "name": "stdout",
     "output_type": "stream",
     "text": [
      "Computing distances to landmark: United_States\n",
      "depth: 0 (United_States)\n",
      "depth: 1 (AmericA)\n",
      "1000000\n",
      "2000000\n",
      "3000000\n",
      "4000000\n",
      "5000000\n",
      "depth: 2 (August_22)\n",
      "6000000\n",
      "7000000\n",
      "8000000\n",
      "9000000\n",
      "10000000\n",
      "11000000\n",
      "12000000\n",
      "13000000\n",
      "depth: 3 (Aug_22)\n",
      "14000000\n",
      "15000000\n",
      "depth: 4 (8/9_(disambiguation))\n",
      "depth: 5 (John_Smiley_(disambiguation))\n",
      "depth: 6 (5-hydroxy-2-(4-hydroxyphenyl)-3,7-dimethoxychromen-4-one)\n",
      "depth: 7 (List_of_highways_numbered_964)\n",
      "depth: 8 (List_of_highways_numbered_965)\n",
      "depth: 9 (Highway_965)\n",
      "depth: 10 (List_of_highways_numbered_1122)\n",
      "depth: 11 (List_of_highways_numbered_1121)\n",
      "depth: 12 (List_of_highways_numbered_1120)\n",
      "depth: 13 (List_of_highways_numbered_1119)\n",
      "depth: 14 (List_of_highways_numbered_1118)\n",
      "depth: 15 (List_of_highways_numbered_1117)\n",
      "depth: 16 (List_of_highways_numbered_1116)\n",
      "depth: 17 (List_of_highways_numbered_1115)\n",
      "depth: 18 (List_of_highways_numbered_1114)\n",
      "depth: 19 (List_of_highways_numbered_1113)\n",
      "depth: 20 (List_of_highways_numbered_1112)\n",
      "depth: 21 (List_of_highways_numbered_1111)\n",
      "depth: 22 (List_of_highways_numbered_1110)\n",
      "depth: 23 (List_of_highways_numbered_1109)\n",
      "depth: 24 (List_of_highways_numbered_1108)\n",
      "depth: 25 (List_of_highways_numbered_1107)\n",
      "depth: 26 (List_of_highways_numbered_1106)\n",
      "depth: 27 (Route_1106)\n",
      "depth: 28 (List_of_highways_numbered_1152)\n",
      "depth: 29 (List_of_highways_numbered_1153)\n",
      "depth: 30 (List_of_highways_numbered_1154)\n",
      "depth: 31 (List_of_highways_numbered_1155)\n",
      "depth: 32 (List_of_highways_numbered_1156)\n",
      "depth: 33 (List_of_highways_numbered_1157)\n",
      "depth: 34 (List_of_highways_numbered_1158)\n",
      "depth: 35 (List_of_highways_numbered_1159)\n",
      "depth: 36 (List_of_highways_numbered_1160)\n",
      "depth: 37 (List_of_highways_numbered_1161)\n",
      "depth: 38 (List_of_highways_numbered_1162)\n",
      "depth: 39 (List_of_highways_numbered_1163)\n",
      "depth: 40 (List_of_highways_numbered_1164)\n",
      "depth: 41 (List_of_highways_numbered_1165)\n",
      "depth: 42 (List_of_highways_numbered_1166)\n",
      "depth: 43 (List_of_highways_numbered_1167)\n",
      "depth: 44 (List_of_highways_numbered_1168)\n",
      "depth: 45 (List_of_highways_numbered_1169)\n",
      "depth: 46 (List_of_highways_numbered_1170)\n",
      "depth: 47 (List_of_highways_numbered_1171)\n",
      "depth: 48 (List_of_highways_numbered_1172)\n",
      "depth: 49 (List_of_highways_numbered_1173)\n",
      "depth: 50 (List_of_highways_numbered_1174)\n",
      "depth: 51 (List_of_highways_numbered_1175)\n",
      "depth: 52 (List_of_highways_numbered_1176)\n",
      "depth: 53 (List_of_highways_numbered_1177)\n",
      "depth: 54 (List_of_highways_numbered_1178)\n",
      "depth: 55 (List_of_highways_numbered_1179)\n",
      "depth: 56 (List_of_highways_numbered_1180)\n",
      "depth: 57 (List_of_highways_numbered_1181)\n",
      "depth: 58 (List_of_highways_numbered_1182)\n",
      "depth: 59 (List_of_highways_numbered_1183)\n",
      "depth: 60 (List_of_highways_numbered_1184)\n",
      "depth: 61 (List_of_highways_numbered_1185)\n",
      "depth: 62 (List_of_highways_numbered_1186)\n",
      "depth: 63 (List_of_highways_numbered_1187)\n"
     ]
    }
   ],
   "source": [
    "landmarks = [\n",
    "    TITLES_TO_IDS[\"United_States\"],\n",
    "    # TITLES_TO_IDS[\"John_Cena\"],\n",
    "]\n",
    "search.compute_landmark_distances(landmarks)"
   ]
  },
  {
   "cell_type": "code",
   "execution_count": 14,
   "metadata": {},
   "outputs": [
    {
     "data": {
      "image/png": "[encoded data removed]",
      "text/plain": [
       "<Figure size 640x480 with 1 Axes>"
      ]
     },
     "metadata": {},
     "output_type": "display_data"
    }
   ],
   "source": [
    "import matplotlib.pyplot as plt\n",
    "\n",
    "plt.hist(search.LANDMARK_DISTANCES[landmarks[0]].values())\n",
    "plt.gca().set_yscale(\"log\")"
   ]
  },
  {
   "cell_type": "code",
   "execution_count": 10,
   "metadata": {},
   "outputs": [
    {
     "data": {
      "text/plain": [
       "0"
      ]
     },
     "execution_count": 10,
     "metadata": {},
     "output_type": "execute_result"
    }
   ],
   "source": [
    "search.landmarks_heuristic(\n",
    "    TITLES_TO_IDS[\"Babe_Ruth\"],\n",
    "    TITLES_TO_IDS[\"Coastal_California\"],\n",
    "    TITLES_TO_IDS[\"Baseball\"]\n",
    ")"
   ]
  },
  {
   "cell_type": "code",
   "execution_count": 7,
   "metadata": {},
   "outputs": [],
   "source": [
    "import timeit\n",
    "\n",
    "def test(start, goal):\n",
    "    print(\"Dummy Heuristic\")\n",
    "    start_time = timeit.default_timer()\n",
    "    path = search.shortest_path(start, goal, method=\"A* dummy\")\n",
    "    stop_time = timeit.default_timer()\n",
    "    print()\n",
    "    print(f\"({(stop_time-start_time)*1000:.0f} ms)\")\n",
    "\n",
    "    print(\"Path:  \", \"  ->  \".join(path))\n",
    "    print()\n",
    "\n",
    "    print(\"Landmarks Heuristic\")\n",
    "    start_time = timeit.default_timer()\n",
    "    path = search.shortest_path(start, goal, method=\"A* landmarks\")\n",
    "    stop_time = timeit.default_timer()\n",
    "    print()\n",
    "    print(f\"({(stop_time-start_time)*1000:.0f} ms)\")\n",
    "\n",
    "    print(\"Path:  \", \"  ->  \".join(path))\n",
    "    print()"
   ]
  },
  {
   "cell_type": "code",
   "execution_count": 8,
   "metadata": {},
   "outputs": [
    {
     "name": "stdout",
     "output_type": "stream",
     "text": [
      "Dummy Heuristic\n",
      "\n",
      "(6069 ms)\n",
      "Path:   Babe_Ruth  ->  The_New_York_Times  ->  California  ->  Coastal_California\n",
      "\n",
      "Landmarks Heuristic\n",
      "\n",
      "(11478 ms)\n",
      "Path:   Babe_Ruth  ->  The_New_York_Times  ->  California  ->  Coastal_California\n",
      "\n"
     ]
    }
   ],
   "source": [
    "test(\"Babe_Ruth\", \"Coastal_California\")"
   ]
  }
 ],
 "metadata": {
  "kernelspec": {
   "display_name": "Python 3",
   "language": "python",
   "name": "python3"
  },
  "language_info": {
   "codemirror_mode": {
    "name": "ipython",
    "version": 3
   },
   "file_extension": ".py",
   "mimetype": "text/x-python",
   "name": "python",
   "nbconvert_exporter": "python",
   "pygments_lexer": "ipython3",
   "version": "3.10.7"
  },
  "orig_nbformat": 4
 },
 "nbformat": 4,
 "nbformat_minor": 2
}
