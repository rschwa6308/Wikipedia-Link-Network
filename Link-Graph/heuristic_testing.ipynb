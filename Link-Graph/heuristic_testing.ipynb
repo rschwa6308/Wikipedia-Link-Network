{
 "cells": [
  {
   "cell_type": "code",
   "execution_count": 49,
   "metadata": {},
   "outputs": [
    {
     "name": "stderr",
     "output_type": "stream",
     "text": [
      "Reading ID Map: 100%|██████████| 16714619/16714619 [00:13<00:00, 1230541.25it/s]\n",
      "Reading Graph: 100%|██████████| 16833643/16833643 [00:43<00:00, 385763.10it/s]\n"
     ]
    }
   ],
   "source": [
    "from read_graph import read_ID_map, read_link_graph\n",
    "\n",
    "TITLES_TO_IDS, IDS_TO_TILES = read_ID_map(\"data/ID_map.txt\")\n",
    "GRAPH = read_link_graph(\"data/link_graph_ids.txt\")"
   ]
  },
  {
   "cell_type": "code",
   "execution_count": 50,
   "metadata": {},
   "outputs": [
    {
     "name": "stderr",
     "output_type": "stream",
     "text": [
      "Building Transpose Graph: 100%|██████████| 16714619/16714619 [01:22<00:00, 202462.01it/s]\n"
     ]
    }
   ],
   "source": [
    "from helpers import build_transpose_graph\n",
    "TRANSPOSE_GRAPH = build_transpose_graph(GRAPH)"
   ]
  },
  {
   "cell_type": "code",
   "execution_count": 70,
   "metadata": {},
   "outputs": [],
   "source": [
    "import importlib\n",
    "\n",
    "import search\n",
    "importlib.reload(search)\n",
    "\n",
    "search.GRAPH = GRAPH\n",
    "search.TRANSPOSE_GRAPH = TRANSPOSE_GRAPH\n",
    "search.TITLES_TO_IDS = TITLES_TO_IDS\n",
    "search.IDS_TO_TILES = IDS_TO_TILES"
   ]
  },
  {
   "cell_type": "code",
   "execution_count": 71,
   "metadata": {},
   "outputs": [
    {
     "name": "stdout",
     "output_type": "stream",
     "text": [
      "Computing distances from landmark: John_Cena\n",
      "depth: 0 (John_Cena)\n",
      "depth: 1 (Anime)\n",
      "depth: 2 (Animation)\n",
      "1000000\n",
      "depth: 3 (Czechoslovakia)\n",
      "2000000\n",
      "3000000\n",
      "4000000\n",
      "5000000\n",
      "depth: 4 (Slovak_state)\n",
      "6000000\n",
      "7000000\n",
      "8000000\n",
      "depth: 5 (Zbrojovka_Z_5_Express)\n",
      "9000000\n",
      "depth: 6 (Zbrojovka_Disk)\n",
      "depth: 7 (Eva_Kováčová)\n",
      "depth: 8 (Stewart_Adam_Thomson_Mallin)\n",
      "depth: 9 (William_Robert_Baxter)\n",
      "depth: 10 (Allan_Baxter)\n",
      "depth: 11 (Justice_Baxter)\n",
      "depth: 12 (Capt._Sylvester_Baxter_House)\n",
      "depth: 13 (Monterrey_La_Raza)\n",
      "depth: 14 (Rassa)\n",
      "depth: 15 (Raška_(disambiguation))\n",
      "depth: 16 (Raška)\n",
      "depth: 17 (Raska_(disambiguation))\n",
      "depth: 18 (Raska)\n",
      "depth: 19 (Raska_(region))\n",
      "depth: 20 (1996_Guangzhou_Apollo_F.C._season)\n",
      "depth: 21 (1995_Guangzhou_Apollo_F.C._season)\n",
      "depth: 22 (Isamu_Tsuji)\n",
      "depth: 23 (Zhao_Lin_(footballer))\n",
      "depth: 24 (List_of_peers_1500–1509)\n",
      "depth: 25 (List_of_peers_1510–1519)\n",
      "depth: 26 (List_of_peers_1520–1529)\n",
      "depth: 27 (Baron_Marny)\n",
      "depth: 28 (Anne_Boleyn,_1st_Marchioness_of_Pembroke)\n",
      "depth: 29 (List_of_peers_1550–1559)\n",
      "depth: 30 (List_of_peers_1560–1569)\n",
      "depth: 31 (List_of_peers_1570–1579)\n",
      "depth: 32 (List_of_peers_1580–1589)\n",
      "depth: 33 (1950_São_Paulo_FC_season)\n",
      "depth: 34 (1951_São_Paulo_FC_season)\n",
      "depth: 35 (1952_São_Paulo_FC_season)\n",
      "depth: 36 (1953_São_Paulo_FC_season)\n",
      "depth: 37 (1954_São_Paulo_FC_season)\n",
      "depth: 38 (Estádio_Ildo_Meneghetti)\n",
      "depth: 39 (1956_São_Paulo_FC_season)\n",
      "depth: 40 (1957_São_Paulo_FC_season)\n",
      "depth: 41 (1958_São_Paulo_FC_season)\n",
      "depth: 42 (Thout_1)\n",
      "depth: 43 (Hathor_19)\n",
      "depth: 44 (Hathor_20)\n",
      "depth: 45 (Hathor_21)\n",
      "depth: 46 (Hathor_22)\n",
      "depth: 47 (Hathor_23)\n",
      "depth: 48 (Hathor_24)\n",
      "depth: 49 (Hathor_25)\n",
      "depth: 50 (Meshir_27)\n",
      "depth: 51 (Meshir_28)\n",
      "depth: 52 (Meshir_29)\n",
      "depth: 53 (Meshir_30)\n",
      "depth: 54 (Paremhat_1)\n",
      "depth: 55 (Paremhat_2)\n",
      "depth: 56 (Paremhat_3)\n",
      "depth: 57 (Paremhat_4)\n",
      "depth: 58 (Paremhat_5)\n",
      "depth: 59 (Paremhat_6)\n",
      "depth: 60 (Paremhat_7)\n",
      "depth: 61 (Paremhat_8)\n",
      "depth: 62 (Paremhat_9)\n",
      "depth: 63 (Paremhat_10)\n",
      "depth: 64 (Paremhat_11)\n",
      "depth: 65 (Paremhat_12)\n",
      "depth: 66 (Paremhat_13)\n",
      "depth: 67 (Paremhat_14)\n",
      "depth: 68 (Paremhat_15)\n",
      "depth: 69 (Paremhat_16)\n",
      "depth: 70 (Paremhat_17)\n",
      "depth: 71 (Paremhat_18)\n",
      "depth: 72 (Paremhat_19)\n",
      "depth: 73 (Paremhat_20)\n",
      "depth: 74 (Paremhat_21)\n",
      "depth: 75 (Paremhat_22)\n",
      "depth: 76 (Paremhat_23)\n",
      "depth: 77 (Daniel_the_Prophet)\n",
      "depth: 78 (Paremhat_25)\n",
      "depth: 79 (Paremhat_26)\n",
      "depth: 80 (Paremhat_27)\n",
      "depth: 81 (Paremhat_28)\n",
      "depth: 82 (Paremhat_29)\n",
      "depth: 83 (Paremhat_30)\n",
      "depth: 84 (Parmouti_1)\n",
      "depth: 85 (Parmouti_2)\n",
      "depth: 86 (Parmouti_3)\n",
      "depth: 87 (Parmouti_4)\n",
      "depth: 88 (Parmouti_5)\n",
      "depth: 89 (Parmouti_6)\n",
      "depth: 90 (Parmouti_7)\n",
      "depth: 91 (Parmouti_8)\n",
      "depth: 92 (Parmouti_9)\n",
      "depth: 93 (Parmouti_10)\n",
      "depth: 94 (Parmouti_11)\n",
      "depth: 95 (Parmouti_12)\n",
      "depth: 96 (List_of_highways_numbered_1180)\n",
      "depth: 97 (List_of_highways_numbered_1181)\n",
      "depth: 98 (List_of_highways_numbered_1182)\n",
      "depth: 99 (List_of_highways_numbered_1183)\n",
      "depth: 100 (List_of_highways_numbered_1184)\n",
      "depth: 101 (List_of_highways_numbered_1185)\n",
      "depth: 102 (List_of_highways_numbered_1186)\n",
      "depth: 103 (List_of_highways_numbered_1187)\n",
      "Computing distances to landmark: John_Cena\n",
      "depth: 0 (John_Cena)\n",
      "depth: 1 (April_23)\n",
      "depth: 2 (April)\n",
      "1000000\n",
      "2000000\n",
      "depth: 3 (Month)\n",
      "3000000\n",
      "4000000\n",
      "5000000\n",
      "6000000\n",
      "7000000\n",
      "8000000\n",
      "9000000\n",
      "10000000\n",
      "depth: 4 (Intercalation_(timekeeping))\n",
      "11000000\n",
      "12000000\n",
      "13000000\n",
      "14000000\n",
      "15000000\n",
      "depth: 5 (Intercalary_days)\n",
      "depth: 6 (Yeongsan_someoridaegi)\n",
      "depth: 7 (Isdhoo_Dynasty)\n",
      "depth: 8 (Universal_state_(disambiguation))\n",
      "depth: 9 (Water_polo_at_the_1983_Mediterranean_Games)\n",
      "depth: 10 (Route_964)\n",
      "depth: 11 (List_of_highways_numbered_1006)\n",
      "depth: 12 (List_of_highways_numbered_1007)\n",
      "depth: 13 (List_of_highways_numbered_1008)\n",
      "depth: 14 (List_of_highways_numbered_1009)\n",
      "depth: 15 (List_of_highways_numbered_1010)\n",
      "depth: 16 (List_of_highways_numbered_1011)\n",
      "depth: 17 (List_of_highways_numbered_1012)\n",
      "depth: 18 (List_of_highways_numbered_1013)\n",
      "depth: 19 (List_of_highways_numbered_1014)\n",
      "depth: 20 (List_of_highways_numbered_1015)\n",
      "depth: 21 (List_of_highways_numbered_1016)\n",
      "depth: 22 (List_of_highways_numbered_1017)\n",
      "depth: 23 (List_of_highways_numbered_1018)\n",
      "depth: 24 (List_of_highways_numbered_1019)\n",
      "depth: 25 (List_of_highways_numbered_1020)\n",
      "depth: 26 (List_of_highways_numbered_1021)\n",
      "depth: 27 (List_of_highways_numbered_1022)\n",
      "depth: 28 (List_of_highways_numbered_1023)\n",
      "depth: 29 (List_of_highways_numbered_1024)\n",
      "depth: 30 (List_of_highways_numbered_1025)\n",
      "depth: 31 (List_of_highways_numbered_1026)\n",
      "depth: 32 (List_of_highways_numbered_1027)\n",
      "depth: 33 (List_of_highways_numbered_1028)\n",
      "depth: 34 (List_of_highways_numbered_1029)\n",
      "depth: 35 (List_of_highways_numbered_1030)\n",
      "depth: 36 (List_of_highways_numbered_1031)\n",
      "depth: 37 (List_of_highways_numbered_1032)\n",
      "depth: 38 (List_of_highways_numbered_1033)\n",
      "depth: 39 (List_of_highways_numbered_1034)\n",
      "depth: 40 (List_of_highways_numbered_1035)\n",
      "depth: 41 (List_of_highways_numbered_1036)\n",
      "depth: 42 (List_of_highways_numbered_1037)\n",
      "depth: 43 (List_of_highways_numbered_1038)\n",
      "depth: 44 (List_of_highways_numbered_1039)\n",
      "depth: 45 (List_of_highways_numbered_1040)\n",
      "depth: 46 (List_of_highways_numbered_1041)\n",
      "depth: 47 (List_of_highways_numbered_1042)\n",
      "depth: 48 (List_of_highways_numbered_1043)\n",
      "depth: 49 (List_of_highways_numbered_1044)\n",
      "depth: 50 (List_of_highways_numbered_1045)\n",
      "depth: 51 (List_of_highways_numbered_1046)\n",
      "depth: 52 (List_of_highways_numbered_1047)\n",
      "depth: 53 (List_of_highways_numbered_1048)\n",
      "depth: 54 (List_of_highways_numbered_1049)\n",
      "depth: 55 (List_of_highways_numbered_1050)\n",
      "depth: 56 (List_of_highways_numbered_1051)\n",
      "depth: 57 (List_of_highways_numbered_1052)\n",
      "depth: 58 (List_of_highways_numbered_1053)\n",
      "depth: 59 (List_of_highways_numbered_1054)\n",
      "depth: 60 (Route_1054)\n",
      "depth: 61 (List_of_highways_numbered_1184)\n",
      "depth: 62 (List_of_highways_numbered_1185)\n",
      "depth: 63 (List_of_highways_numbered_1186)\n",
      "depth: 64 (List_of_highways_numbered_1187)\n"
     ]
    }
   ],
   "source": [
    "landmarks = [\n",
    "    # TITLES_TO_IDS[\"United_States\"],\n",
    "    TITLES_TO_IDS[\"John_Cena\"],\n",
    "]\n",
    "search.compute_landmark_distances(landmarks)"
   ]
  },
  {
   "cell_type": "code",
   "execution_count": 79,
   "metadata": {},
   "outputs": [
    {
     "data": {
      "image/png": "[encoded data removed]",
      "text/plain": [
       "<Figure size 640x480 with 1 Axes>"
      ]
     },
     "metadata": {},
     "output_type": "display_data"
    }
   ],
   "source": [
    "import matplotlib.pyplot as plt\n",
    "\n",
    "plt.hist(search.TO_LANDMARK_DISTANCES[landmarks[0]].values())\n",
    "plt.gca().set_yscale(\"log\")"
   ]
  },
  {
   "cell_type": "code",
   "execution_count": 80,
   "metadata": {},
   "outputs": [
    {
     "data": {
      "image/png": "[encoded data removed]",
      "text/plain": [
       "<Figure size 640x480 with 1 Axes>"
      ]
     },
     "metadata": {},
     "output_type": "display_data"
    }
   ],
   "source": [
    "plt.hist(search.FROM_LANDMARK_DISTANCES[landmarks[0]].values())\n",
    "plt.gca().set_yscale(\"log\")"
   ]
  },
  {
   "cell_type": "code",
   "execution_count": 90,
   "metadata": {},
   "outputs": [
    {
     "data": {
      "text/plain": [
       "0"
      ]
     },
     "execution_count": 90,
     "metadata": {},
     "output_type": "execute_result"
    }
   ],
   "source": [
    "search.landmarks_heuristic(\n",
    "    TITLES_TO_IDS[\"Babe_Ruth\"],\n",
    "    TITLES_TO_IDS[\"Coastal_California\"],\n",
    "    TITLES_TO_IDS[\"Andrew_Carnegie\"]\n",
    ")"
   ]
  },
  {
   "cell_type": "code",
   "execution_count": 91,
   "metadata": {},
   "outputs": [
    {
     "data": {
      "text/plain": [
       "2"
      ]
     },
     "execution_count": 91,
     "metadata": {},
     "output_type": "execute_result"
    }
   ],
   "source": [
    "search.FROM_LANDMARK_DISTANCES[landmarks[0]][TITLES_TO_IDS[\"Baseball\"]]"
   ]
  },
  {
   "cell_type": "code",
   "execution_count": 76,
   "metadata": {},
   "outputs": [],
   "source": [
    "import timeit\n",
    "\n",
    "def test(start, goal):\n",
    "    print(\"Dummy Heuristic\")\n",
    "    start_time = timeit.default_timer()\n",
    "    path = search.shortest_path(start, goal, method=\"A* dummy\")\n",
    "    stop_time = timeit.default_timer()\n",
    "    print()\n",
    "    print(f\"({(stop_time-start_time)*1000:.0f} ms)\")\n",
    "\n",
    "    print(\"Path:  \", \"  ->  \".join(path))\n",
    "    print()\n",
    "\n",
    "    print(\"Landmarks Heuristic\")\n",
    "    start_time = timeit.default_timer()\n",
    "    path = search.shortest_path(start, goal, method=\"A* landmarks\")\n",
    "    stop_time = timeit.default_timer()\n",
    "    print()\n",
    "    print(f\"({(stop_time-start_time)*1000:.0f} ms)\")\n",
    "\n",
    "    print(\"Path:  \", \"  ->  \".join(path))\n",
    "    print()"
   ]
  },
  {
   "cell_type": "code",
   "execution_count": 77,
   "metadata": {},
   "outputs": [
    {
     "name": "stdout",
     "output_type": "stream",
     "text": [
      "Dummy Heuristic\n",
      "\n",
      "(7360 ms)\n",
      "Path:   Babe_Ruth  ->  The_New_York_Times  ->  California  ->  Coastal_California\n",
      "\n",
      "Landmarks Heuristic\n",
      "\n",
      "(10661 ms)\n",
      "Path:   Babe_Ruth  ->  The_New_York_Times  ->  California  ->  Coastal_California\n",
      "\n"
     ]
    }
   ],
   "source": [
    "test(\"Babe_Ruth\", \"Coastal_California\")"
   ]
  }
 ],
 "metadata": {
  "kernelspec": {
   "display_name": "Python 3",
   "language": "python",
   "name": "python3"
  },
  "language_info": {
   "codemirror_mode": {
    "name": "ipython",
    "version": 3
   },
   "file_extension": ".py",
   "mimetype": "text/x-python",
   "name": "python",
   "nbconvert_exporter": "python",
   "pygments_lexer": "ipython3",
   "version": "3.10.7"
  },
  "orig_nbformat": 4
 },
 "nbformat": 4,
 "nbformat_minor": 2
}
