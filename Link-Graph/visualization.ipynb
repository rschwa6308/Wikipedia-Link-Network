{
 "cells": [
  {
   "cell_type": "code",
   "execution_count": 1,
   "metadata": {},
   "outputs": [],
   "source": [
    "from matplotlib import pyplot as plt\n",
    "import numpy as np"
   ]
  },
  {
   "cell_type": "code",
   "execution_count": 2,
   "metadata": {},
   "outputs": [
    {
     "name": "stderr",
     "output_type": "stream",
     "text": [
      "Reading ID Map: 100%|██████████| 16714619/16714619 [00:13<00:00, 1213138.34it/s]\n",
      "Reading Graph: 100%|██████████| 16833643/16833643 [00:44<00:00, 380798.44it/s]\n"
     ]
    }
   ],
   "source": [
    "from read_graph import read_ID_map, read_link_graph\n",
    "\n",
    "TITLES_TO_IDS, IDS_TO_TILES = read_ID_map(\"data/ID_map.txt\")\n",
    "GRAPH = read_link_graph(\"data/link_graph_ids.txt\")"
   ]
  },
  {
   "cell_type": "code",
   "execution_count": 5,
   "metadata": {},
   "outputs": [
    {
     "name": "stdout",
     "output_type": "stream",
     "text": [
      "Pittsburgh -> Andrew_Carnegie\n",
      "Pittsburgh -> United_States\n",
      "Pittsburgh -> Carnegie_Mellon_University\n",
      "Carnegie_Mellon_University -> Andrew_Carnegie\n",
      "Carnegie_Mellon_University -> Pittsburgh\n",
      "Carnegie_Mellon_University -> Skibo_Castle\n",
      "Andrew_Carnegie -> Pittsburgh\n",
      "Andrew_Carnegie -> Carnegie_Mellon_University\n",
      "Andrew_Carnegie -> Skibo_Castle\n",
      "Skibo_Castle -> Andrew_Carnegie\n"
     ]
    }
   ],
   "source": [
    "small_graph = [TITLES_TO_IDS[page] for page in [\"Pittsburgh\", \"Carnegie_Mellon_University\", \"Andrew_Carnegie\", \"United_States\", \"Skibo_Castle\"]]\n",
    "\n",
    "for page in small_graph:\n",
    "    for link in GRAPH[page]:\n",
    "        if link not in small_graph: continue\n",
    "        print(IDS_TO_TILES[page], \"->\", IDS_TO_TILES[link])"
   ]
  }
 ],
 "metadata": {
  "kernelspec": {
   "display_name": "Python 3",
   "language": "python",
   "name": "python3"
  },
  "language_info": {
   "codemirror_mode": {
    "name": "ipython",
    "version": 3
   },
   "file_extension": ".py",
   "mimetype": "text/x-python",
   "name": "python",
   "nbconvert_exporter": "python",
   "pygments_lexer": "ipython3",
   "version": "3.10.7"
  },
  "orig_nbformat": 4
 },
 "nbformat": 4,
 "nbformat_minor": 2
}
